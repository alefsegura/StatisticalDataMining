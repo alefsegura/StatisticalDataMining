{
 "cells": [
  {
   "cell_type": "markdown",
   "metadata": {},
   "source": [
    "# SME0878 - Mineração Estatística de Dados\n",
    "## Instituto de Ciências Matemáticas e Computação - Unversidade de São Paulo\n",
    "### Trabalho 3\n",
    "* Alef Segura Santos, 9762942\n",
    "* Gustavo de Moura Souza, 9762981"
   ]
  },
  {
   "cell_type": "code",
   "execution_count": 1,
   "metadata": {},
   "outputs": [],
   "source": [
    "import matplotlib.pyplot as plt\n",
    "#plt.style.use('seaborn')\n",
    "\n",
    "import warnings\n",
    "warnings.simplefilter(action='ignore', category=FutureWarning)\n",
    "\n",
    "import numpy as np\n",
    "import pandas as pd\n",
    "import seaborn as sns\n",
    "\n",
    "from tqdm import tqdm\n",
    "\n",
    "from sklearn.datasets import make_circles\n",
    "from sklearn.model_selection import KFold, cross_validate\n",
    "from sklearn.neural_network import MLPClassifier\n",
    "from sklearn.naive_bayes import GaussianNB\n",
    "from sklearn.neighbors import KNeighborsClassifier\n",
    "from sklearn.ensemble import RandomForestClassifier"
   ]
  },
  {
   "cell_type": "markdown",
   "metadata": {},
   "source": [
    "## Questão 1\n",
    "Considere\ta\tbase\tdados\tgerado\tpela\tfunção\tskdata.make_circles (noise\t=\t0.2),\t\n",
    "conforme\tfeito\tem\taula.\n",
    "Compare\tos\tseguintes\talgoritmos:\n",
    "(a)\tRedes\tNeurais\n",
    "(b)\tNaive\tBayes\n",
    "(c)\tKnn\n",
    "(d)\tRandom\tforest\n",
    "Use\tas\tmétricas\tAccuracy, F1, Precision,\tRecall. \n",
    "Use o\tmétodo k-fold\tcross\tvalidation\tcom\tk=10."
   ]
  },
  {
   "cell_type": "code",
   "execution_count": 3,
   "metadata": {},
   "outputs": [
    {
     "name": "stderr",
     "output_type": "stream",
     "text": [
      " 50%|█████     | 8/16 [00:38<00:37,  4.67s/it]/home/alefsegura/.local/lib/python3.6/site-packages/sklearn/metrics/classification.py:1143: UndefinedMetricWarning: F-score is ill-defined and being set to 0.0 due to no predicted samples.\n",
      "  'precision', 'predicted', average, warn_for)\n",
      "/home/alefsegura/.local/lib/python3.6/site-packages/sklearn/metrics/classification.py:1143: UndefinedMetricWarning: Precision is ill-defined and being set to 0.0 due to no predicted samples.\n",
      "  'precision', 'predicted', average, warn_for)\n",
      "100%|██████████| 16/16 [00:38<00:00,  1.68s/it]\n"
     ]
    },
    {
     "data": {
      "image/png": "[encoded data removed]",
      "text/plain": [
       "<Figure size 720x432 with 1 Axes>"
      ]
     },
     "metadata": {},
     "output_type": "display_data"
    }
   ],
   "source": [
    "dataset = make_circles()\n",
    "\n",
    "X = dataset[0]\n",
    "y = dataset[1]\n",
    "\n",
    "kf = KFold(10)\n",
    "\n",
    "models = [\n",
    "    MLPClassifier(max_iter=2000),\n",
    "    KNeighborsClassifier(),\n",
    "    GaussianNB(),\n",
    "    RandomForestClassifier()\n",
    "]\n",
    "\n",
    "metrics = ['accuracy','f1','precision','recall']\n",
    "\n",
    "scores = []\n",
    "with tqdm(total=len(metrics)*len(models)) as bar:\n",
    "    for model in models:\n",
    "        for metric in metrics:\n",
    "            cv = cross_validate(model, X, y, cv=kf, return_train_score=True, scoring=metric)\n",
    "            score = {}\n",
    "            score['Metric'] = metric\n",
    "            score['Model'] = type(model).__name__\n",
    "            score['Test Score'] = np.mean(cv['test_score'])\n",
    "            score['Train Score'] = np.mean(cv['train_score'])\n",
    "            scores.append(score)\n",
    "            bar.update()\n",
    "\n",
    "df_scores = pd.DataFrame(scores)\n",
    "            \n",
    "# Resultados\n",
    "plt.figure(figsize=(10,6))\n",
    "sns.barplot(x=df_scores.Model, y=df_scores['Test Score'], hue=df_scores.Metric)\n",
    "plt.show()"
   ]
  },
  {
   "cell_type": "markdown",
   "metadata": {},
   "source": [
    "## Questão 2\n",
    "\n",
    "Considere a\tpartir\tde\tagora a\tbase\tde\tdados\tsobre\tdiabetes:\n",
    "https://www.kaggle.com/uciml/pima-indians-diabetes-database\n",
    "\n",
    "2\t- Verifique\tcomo a\tclassifição\tmuda\tquando\tconsideramos\to\tmétodo k-fold\t\n",
    "cross\tvalidation.\tOu\tseja,\tfaça\tum\tgráfico\tda\tmedida\tPrecison\tem\tfunção\tde\tk\t\n",
    "para\tos\talgoritmos\tRedes\tNeurais\te\tRandom\tForest."
   ]
  },
  {
   "cell_type": "code",
   "execution_count": null,
   "metadata": {},
   "outputs": [],
   "source": []
  },
  {
   "cell_type": "markdown",
   "metadata": {},
   "source": [
    "## Questão 3\n",
    "3\t- Compare\tos classificadores\tRedes\tNeurais,\tNaïve\tBayes\te Random\tForest\tpara\t\n",
    "k=10\t(k-fold\tcross\tvalidation estratificado)\tem\ttermos\tda\tcurva\tROC. Qual\t\n",
    "classificador\té\to\tmelhor?\tJustifique."
   ]
  },
  {
   "cell_type": "code",
   "execution_count": null,
   "metadata": {},
   "outputs": [],
   "source": []
  },
  {
   "cell_type": "markdown",
   "metadata": {},
   "source": [
    "## Questão 4\n",
    "– Usando\to\tmétodo\tque\tseleciona\tapenas\tum\tatributo\tpor\tvez\t(univariado,\t\n",
    "teste\tqui-quadrado),\tfaça\tuma\tcurva\tda\tmedida\tF1\tem\tfunção\tdo\tnúmero\tde\t\n",
    "atributos\tconsiderados.\tIsto\té,\tobtenha\tF1 para\to\tatributo\tmais\timportante,\t\n",
    "depois\tpara\tos\tdois\tmais\timportantes\te\tassim\tpor\tdiante."
   ]
  },
  {
   "cell_type": "code",
   "execution_count": null,
   "metadata": {},
   "outputs": [],
   "source": []
  },
  {
   "cell_type": "markdown",
   "metadata": {},
   "source": [
    "## Questão 5\n",
    "– Projete\tos\tdados\tusando\tPCA\te\tfaça\tum\tgráfico\tde\tF1\tem\ttermos\tdo\tnúmero\t\n",
    "de\tcomponents.\tQuantos\tcomponents\toferecem\ta\tmaior\ttaxa\tde\tacerto?\tCompare\t\n",
    "com\ta\tcurva\t“cumulative\texplained\tvariance”\tversus\t“number\tof\tcomponents”\te\t\n",
    "explique\tos\tresultados."
   ]
  },
  {
   "cell_type": "code",
   "execution_count": null,
   "metadata": {},
   "outputs": [],
   "source": []
  },
  {
   "cell_type": "markdown",
   "metadata": {},
   "source": [
    "## Questão 6\n",
    "Considere agora a\tbase\tde\tdados\tdo\tTitanic,\tconforme\tdescrita\tem:\n",
    "https://paulovasconcellos.com.br/competicao-kaggle-titanic-tutorial5b11993774f7\n",
    "Construa\ta\tcurva\tROC\tpara\tas\tredes\tneurais\te\trandom\tforest.\n",
    "Identifique\tos\tatributos\tmais\timportantes\tusando\to\tmétodo\twrapper.\tConstrua\t\n",
    "um\tgráfico\tda\tmedida\tPrecision\tem\tfunção\tdo\tnúmero\tde\tatributos\tusados.\tÉ\t\n",
    "possível\tmelhorar\ta\tclassificação\tconsiderando\tum\tnúmero\treduzido\tde\t\n",
    "atributos?"
   ]
  },
  {
   "cell_type": "code",
   "execution_count": null,
   "metadata": {},
   "outputs": [],
   "source": []
  }
 ],
 "metadata": {
  "kernelspec": {
   "display_name": "Python 3",
   "language": "python",
   "name": "python3"
  },
  "language_info": {
   "codemirror_mode": {
    "name": "ipython",
    "version": 3
   },
   "file_extension": ".py",
   "mimetype": "text/x-python",
   "name": "python",
   "nbconvert_exporter": "python",
   "pygments_lexer": "ipython3",
   "version": "3.6.7"
  }
 },
 "nbformat": 4,
 "nbformat_minor": 2
}
